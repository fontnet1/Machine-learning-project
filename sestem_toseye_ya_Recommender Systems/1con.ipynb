{
 "cells": [
  {
   "cell_type": "code",
   "execution_count": 91,
   "metadata": {},
   "outputs": [],
   "source": [
    "import pandas as pd\n",
    "from math import sqrt\n"
   ]
  },
  {
   "cell_type": "code",
   "execution_count": 92,
   "metadata": {},
   "outputs": [],
   "source": [
    "\n",
    "# بارگذاری داده‌ها\n",
    "movies_df = pd.read_csv('movies.csv')\n",
    "ratings_df = pd.read_csv('ratings.csv')\n"
   ]
  },
  {
   "cell_type": "code",
   "execution_count": 93,
   "metadata": {},
   "outputs": [],
   "source": [
    "\n",
    "# پردازش داده‌های فیلم‌ها\n",
    "movies_df['year'] = movies_df['title'].str.extract(r'(\\(\\d{4}\\))', expand=False)\n",
    "movies_df['year'] = movies_df['year'].str.extract(r'(\\d{4})', expand=False)\n",
    "movies_df['title'] = movies_df['title'].str.replace(r'\\(\\d{4}\\)', '', regex=True).str.strip()\n"
   ]
  },
  {
   "cell_type": "code",
   "execution_count": 94,
   "metadata": {},
   "outputs": [],
   "source": [
    "\n",
    "# حذف ستون 'genres' و 'timestamp'\n",
    "movies_df = movies_df.drop('genres', axis=1)\n",
    "ratings_df = ratings_df.drop('timestamp', axis=1)\n"
   ]
  },
  {
   "cell_type": "code",
   "execution_count": 95,
   "metadata": {},
   "outputs": [],
   "source": [
    "\n",
    "# حذف مقادیر غیرعددی در ستون 'userId'\n",
    "ratings_df['userId'] = pd.to_numeric(ratings_df['userId'], errors='coerce')  # مقادیر غیرعددی به NaN تبدیل می‌شوند\n",
    "ratings_df = ratings_df.dropna(subset=['userId'])  # حذف ردیف‌هایی که userId آن‌ها NaN است\n",
    "ratings_df['userId'] = ratings_df['userId'].astype(int)  # تبدیل به نوع int پس از حذف مقادیر غیرعددی\n"
   ]
  },
  {
   "cell_type": "code",
   "execution_count": 96,
   "metadata": {},
   "outputs": [],
   "source": [
    "\n",
    "# ورودی نمونه از کاربر\n",
    "userInput = [\n",
    "    {'title': 'The Breakfast Club', 'rating': 5},\n",
    "    {'title': 'Toy Story', 'rating': 3.5},\n",
    "    {'title': 'Jumanji', 'rating': 2},\n",
    "    {'title': 'Pulp Fiction', 'rating': 5},\n",
    "    {'title': 'Akira', 'rating': 4.5}\n",
    "]\n",
    "inputMovies = pd.DataFrame(userInput)\n"
   ]
  },
  {
   "cell_type": "code",
   "execution_count": 97,
   "metadata": {},
   "outputs": [],
   "source": [
    "\n",
    "# پیدا کردن MovieID برای فیلم‌های ورودی\n",
    "inputId = movies_df[movies_df['title'].isin(inputMovies['title'].tolist())]\n",
    "inputMovies = pd.merge(inputId, inputMovies, on='title')  # اضافه کردن on='title' برای ادغام درست\n"
   ]
  },
  {
   "cell_type": "code",
   "execution_count": 98,
   "metadata": {},
   "outputs": [],
   "source": [
    "\n",
    "# حذف ستون 'year'\n",
    "inputMovies = inputMovies.drop('year', axis=1)\n",
    "\n",
    "# فیلتر کردن کاربران که این فیلم‌ها را تماشا کرده‌اند\n",
    "userSubset = ratings_df[ratings_df['movieId'].isin(inputMovies['movieId'].tolist())]\n",
    "\n",
    "# گروه‌بندی کاربران بر اساس 'userId'\n",
    "userSubsetGroup = userSubset.groupby(['userId'])\n",
    "\n",
    "# محاسبه همبستگی پیرسون بین کاربر ورودی و سایر کاربران\n",
    "pearsonCorrelationDict = {}\n"
   ]
  },
  {
   "cell_type": "code",
   "execution_count": 99,
   "metadata": {},
   "outputs": [],
   "source": [
    "\n",
    "for name, group in userSubsetGroup:\n",
    "    # مرتب‌سازی داده‌ها بر اساس 'movieId'\n",
    "    group = group.sort_values(by='movieId')\n",
    "    inputMovies = inputMovies.sort_values(by='movieId')\n",
    "\n",
    "    # پیدا کردن فیلم‌هایی که کاربر ورودی و کاربر مورد نظر هر دو دیده‌اند\n",
    "    nRatings = len(group)\n",
    "    temp_df = inputMovies[inputMovies['movieId'].isin(group['movieId'].tolist())]\n",
    "    \n",
    "    if len(temp_df) == 0:\n",
    "        continue\n",
    "    \n",
    "    # به‌دست آوردن امتیازات هر دو کاربر\n",
    "    tempRatingList = temp_df['rating'].tolist()\n",
    "    tempGroupList = group['rating'].tolist()\n",
    "\n",
    "    # محاسبه Sxx, Syy, Sxy\n",
    "    Sxx = sum([i**2 for i in tempRatingList]) - pow(sum(tempRatingList), 2)/float(nRatings)\n",
    "    Syy = sum([i**2 for i in tempGroupList]) - pow(sum(tempGroupList), 2)/float(nRatings)\n",
    "    Sxy = sum(i*j for i, j in zip(tempRatingList, tempGroupList)) - sum(tempRatingList)*sum(tempGroupList)/float(nRatings)\n",
    "\n",
    "    # محاسبه همبستگی\n",
    "    if Sxx != 0 and Syy != 0:\n",
    "        pearsonCorrelationDict[name] = Sxy/sqrt(Sxx*Syy)\n",
    "    else:\n",
    "        pearsonCorrelationDict[name] = 0\n"
   ]
  },
  {
   "cell_type": "code",
   "execution_count": 100,
   "metadata": {},
   "outputs": [],
   "source": [
    "\n",
    "# ساخت دیتافریم برای همبستگی کاربران\n",
    "pearsonDF = pd.DataFrame.from_dict(pearsonCorrelationDict, orient='index', columns=['similarityIndex'])\n",
    "pearsonDF['userId'] = pearsonDF.index\n",
    "pearsonDF = pearsonDF.reset_index(drop=True)\n"
   ]
  },
  {
   "cell_type": "code",
   "execution_count": 101,
   "metadata": {},
   "outputs": [
    {
     "name": "stdout",
     "output_type": "stream",
     "text": [
      "0    (1,)\n",
      "1    (4,)\n",
      "2    (5,)\n",
      "3    (6,)\n",
      "4    (7,)\n",
      "Name: userId, dtype: object\n"
     ]
    }
   ],
   "source": [
    "print(pearsonDF['userId'].head())"
   ]
  },
  {
   "cell_type": "code",
   "execution_count": 102,
   "metadata": {},
   "outputs": [],
   "source": [
    "# استخراج مقدار عددی از تاپل\n",
    "pearsonDF['userId'] = pearsonDF['userId'].apply(lambda x: x[0] if isinstance(x, tuple) else x)\n",
    "\n",
    "# سپس تبدیل به int\n",
    "pearsonDF['userId'] = pearsonDF['userId'].astype(int)\n"
   ]
  },
  {
   "cell_type": "code",
   "execution_count": 103,
   "metadata": {},
   "outputs": [],
   "source": [
    "\n",
    "# انتخاب کاربران مشابه\n",
    "topUsers = pearsonDF.sort_values(by='similarityIndex', ascending=False)[0:50]\n"
   ]
  },
  {
   "cell_type": "code",
   "execution_count": 104,
   "metadata": {},
   "outputs": [],
   "source": [
    "\n",
    "# ادغام امتیازات کاربران مشابه با دیتافریم 'ratings_df'\n",
    "topUsersRating = pd.merge(topUsers, ratings_df, left_on='userId', right_on='userId', how='inner')\n"
   ]
  },
  {
   "cell_type": "code",
   "execution_count": 105,
   "metadata": {},
   "outputs": [],
   "source": [
    "\n",
    "# محاسبه امتیازات وزنی\n",
    "topUsersRating['weightedRating'] = topUsersRating['similarityIndex'] * topUsersRating['rating']\n"
   ]
  },
  {
   "cell_type": "code",
   "execution_count": 106,
   "metadata": {},
   "outputs": [],
   "source": [
    "\n",
    "# گروه‌بندی بر اساس 'movieId' و محاسبه مجموع امتیازات وزنی و شاخص شباهت\n",
    "tempTopUsersRating = topUsersRating.groupby('movieId').sum()[['similarityIndex', 'weightedRating']]\n",
    "tempTopUsersRating.columns = ['sum_similarityIndex', 'sum_weightedRating']"
   ]
  },
  {
   "cell_type": "code",
   "execution_count": 107,
   "metadata": {},
   "outputs": [],
   "source": [
    "\n",
    "# محاسبه امتیاز نهایی توصیه‌ها\n",
    "recommendation_df = pd.DataFrame()\n",
    "recommendation_df['weighted average recommendation score'] = tempTopUsersRating['sum_weightedRating'] / tempTopUsersRating['sum_similarityIndex']\n",
    "recommendation_df['movieId'] = tempTopUsersRating.index\n"
   ]
  },
  {
   "cell_type": "code",
   "execution_count": 108,
   "metadata": {},
   "outputs": [
    {
     "name": "stdout",
     "output_type": "stream",
     "text": [
      "      movieId                                      title  year\n",
      "27         28                                 Persuasion  1995\n",
      "76         85                         Angels and Insects  1995\n",
      "2215     2943                                  Indochine  1992\n",
      "2279     3022                               General, The  1926\n",
      "2288     3035                             Mister Roberts  1955\n",
      "9367   162414                                  Moonlight   NaN\n",
      "9443   167064                        I Am Not Your Negro  2017\n",
      "9611   176601                               Black Mirror   NaN\n",
      "9618   177593  Three Billboards Outside Ebbing, Missouri  2017\n",
      "9711   187717                  Won't You Be My Neighbor?  2018\n"
     ]
    }
   ],
   "source": [
    "\n",
    "\n",
    "# مرتب‌سازی و نمایش 10 فیلم برتر پیشنهادی\n",
    "recommendation_df = recommendation_df.sort_values(by='weighted average recommendation score', ascending=False)\n",
    "recommended_movies = movies_df.loc[movies_df['movieId'].isin(recommendation_df.head(10)['movieId'].tolist())]\n",
    "\n",
    "# نمایش فیلم‌های پیشنهادی\n",
    "print(recommended_movies)\n"
   ]
  }
 ],
 "metadata": {
  "kernelspec": {
   "display_name": "Python 3",
   "language": "python",
   "name": "python3"
  },
  "language_info": {
   "codemirror_mode": {
    "name": "ipython",
    "version": 3
   },
   "file_extension": ".py",
   "mimetype": "text/x-python",
   "name": "python",
   "nbconvert_exporter": "python",
   "pygments_lexer": "ipython3",
   "version": "3.12.5"
  }
 },
 "nbformat": 4,
 "nbformat_minor": 2
}
